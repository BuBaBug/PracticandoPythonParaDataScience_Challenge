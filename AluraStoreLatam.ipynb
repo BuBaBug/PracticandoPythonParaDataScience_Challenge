{
  "nbformat": 4,
  "nbformat_minor": 0,
  "metadata": {
    "colab": {
      "provenance": [],
      "collapsed_sections": [
        "Fl0cGi3bZKqU",
        "vmWXebbzFA1L",
        "MCsIx3w-cO64"
      ]
    },
    "kernelspec": {
      "name": "python3",
      "display_name": "Python 3"
    },
    "language_info": {
      "name": "python"
    }
  },
  "cells": [
    {
      "cell_type": "markdown",
      "source": [
        "### Importación de datos.\n",
        "\n"
      ],
      "metadata": {
        "id": "RhEdWd9YUR6H"
      }
    },
    {
      "cell_type": "code",
      "execution_count": 2,
      "metadata": {
        "colab": {
          "base_uri": "https://localhost:8080/",
          "height": 400
        },
        "id": "T3EvaeQ_INIL",
        "outputId": "2ba63742-9ab6-4c8d-f168-53a375f55606"
      },
      "outputs": [
        {
          "output_type": "execute_result",
          "data": {
            "text/plain": [
              "            Producto Categoría del Producto    Precio  Costo de envío  \\\n",
              "0  Asistente virtual           Electrónicos  164300.0          6900.0   \n",
              "1    Mesa de comedor                Muebles  192300.0          8400.0   \n",
              "2      Juego de mesa               Juguetes  209600.0         15900.0   \n",
              "3         Microondas      Electrodomésticos  757500.0         41000.0   \n",
              "4   Silla de oficina                Muebles  335200.0         20200.0   \n",
              "\n",
              "  Fecha de Compra         Vendedor Lugar de Compra  Calificación  \\\n",
              "0      16/01/2021      Pedro Gomez          Bogotá             4   \n",
              "1      18/05/2022  Beatriz Morales        Medellín             1   \n",
              "2      15/03/2021   Juan Fernandez       Cartagena             1   \n",
              "3      03/05/2022   Juan Fernandez            Cali             4   \n",
              "4      07/11/2020    Maria Alfonso        Medellín             5   \n",
              "\n",
              "       Método de pago  Cantidad de cuotas       lat       lon  \n",
              "0  Tarjeta de crédito                   8   4.60971 -74.08175  \n",
              "1  Tarjeta de crédito                   4   6.25184 -75.56359  \n",
              "2  Tarjeta de crédito                   1  10.39972 -75.51444  \n",
              "3               Nequi                   1   3.43722 -76.52250  \n",
              "4               Nequi                   1   6.25184 -75.56359  "
            ],
            "text/html": [
              "\n",
              "  <div id=\"df-cd7d0a96-6a79-4f9b-9784-68cab4ff086c\" class=\"colab-df-container\">\n",
              "    <div>\n",
              "<style scoped>\n",
              "    .dataframe tbody tr th:only-of-type {\n",
              "        vertical-align: middle;\n",
              "    }\n",
              "\n",
              "    .dataframe tbody tr th {\n",
              "        vertical-align: top;\n",
              "    }\n",
              "\n",
              "    .dataframe thead th {\n",
              "        text-align: right;\n",
              "    }\n",
              "</style>\n",
              "<table border=\"1\" class=\"dataframe\">\n",
              "  <thead>\n",
              "    <tr style=\"text-align: right;\">\n",
              "      <th></th>\n",
              "      <th>Producto</th>\n",
              "      <th>Categoría del Producto</th>\n",
              "      <th>Precio</th>\n",
              "      <th>Costo de envío</th>\n",
              "      <th>Fecha de Compra</th>\n",
              "      <th>Vendedor</th>\n",
              "      <th>Lugar de Compra</th>\n",
              "      <th>Calificación</th>\n",
              "      <th>Método de pago</th>\n",
              "      <th>Cantidad de cuotas</th>\n",
              "      <th>lat</th>\n",
              "      <th>lon</th>\n",
              "    </tr>\n",
              "  </thead>\n",
              "  <tbody>\n",
              "    <tr>\n",
              "      <th>0</th>\n",
              "      <td>Asistente virtual</td>\n",
              "      <td>Electrónicos</td>\n",
              "      <td>164300.0</td>\n",
              "      <td>6900.0</td>\n",
              "      <td>16/01/2021</td>\n",
              "      <td>Pedro Gomez</td>\n",
              "      <td>Bogotá</td>\n",
              "      <td>4</td>\n",
              "      <td>Tarjeta de crédito</td>\n",
              "      <td>8</td>\n",
              "      <td>4.60971</td>\n",
              "      <td>-74.08175</td>\n",
              "    </tr>\n",
              "    <tr>\n",
              "      <th>1</th>\n",
              "      <td>Mesa de comedor</td>\n",
              "      <td>Muebles</td>\n",
              "      <td>192300.0</td>\n",
              "      <td>8400.0</td>\n",
              "      <td>18/05/2022</td>\n",
              "      <td>Beatriz Morales</td>\n",
              "      <td>Medellín</td>\n",
              "      <td>1</td>\n",
              "      <td>Tarjeta de crédito</td>\n",
              "      <td>4</td>\n",
              "      <td>6.25184</td>\n",
              "      <td>-75.56359</td>\n",
              "    </tr>\n",
              "    <tr>\n",
              "      <th>2</th>\n",
              "      <td>Juego de mesa</td>\n",
              "      <td>Juguetes</td>\n",
              "      <td>209600.0</td>\n",
              "      <td>15900.0</td>\n",
              "      <td>15/03/2021</td>\n",
              "      <td>Juan Fernandez</td>\n",
              "      <td>Cartagena</td>\n",
              "      <td>1</td>\n",
              "      <td>Tarjeta de crédito</td>\n",
              "      <td>1</td>\n",
              "      <td>10.39972</td>\n",
              "      <td>-75.51444</td>\n",
              "    </tr>\n",
              "    <tr>\n",
              "      <th>3</th>\n",
              "      <td>Microondas</td>\n",
              "      <td>Electrodomésticos</td>\n",
              "      <td>757500.0</td>\n",
              "      <td>41000.0</td>\n",
              "      <td>03/05/2022</td>\n",
              "      <td>Juan Fernandez</td>\n",
              "      <td>Cali</td>\n",
              "      <td>4</td>\n",
              "      <td>Nequi</td>\n",
              "      <td>1</td>\n",
              "      <td>3.43722</td>\n",
              "      <td>-76.52250</td>\n",
              "    </tr>\n",
              "    <tr>\n",
              "      <th>4</th>\n",
              "      <td>Silla de oficina</td>\n",
              "      <td>Muebles</td>\n",
              "      <td>335200.0</td>\n",
              "      <td>20200.0</td>\n",
              "      <td>07/11/2020</td>\n",
              "      <td>Maria Alfonso</td>\n",
              "      <td>Medellín</td>\n",
              "      <td>5</td>\n",
              "      <td>Nequi</td>\n",
              "      <td>1</td>\n",
              "      <td>6.25184</td>\n",
              "      <td>-75.56359</td>\n",
              "    </tr>\n",
              "  </tbody>\n",
              "</table>\n",
              "</div>\n",
              "    <div class=\"colab-df-buttons\">\n",
              "\n",
              "  <div class=\"colab-df-container\">\n",
              "    <button class=\"colab-df-convert\" onclick=\"convertToInteractive('df-cd7d0a96-6a79-4f9b-9784-68cab4ff086c')\"\n",
              "            title=\"Convert this dataframe to an interactive table.\"\n",
              "            style=\"display:none;\">\n",
              "\n",
              "  <svg xmlns=\"http://www.w3.org/2000/svg\" height=\"24px\" viewBox=\"0 -960 960 960\">\n",
              "    <path d=\"M120-120v-720h720v720H120Zm60-500h600v-160H180v160Zm220 220h160v-160H400v160Zm0 220h160v-160H400v160ZM180-400h160v-160H180v160Zm440 0h160v-160H620v160ZM180-180h160v-160H180v160Zm440 0h160v-160H620v160Z\"/>\n",
              "  </svg>\n",
              "    </button>\n",
              "\n",
              "  <style>\n",
              "    .colab-df-container {\n",
              "      display:flex;\n",
              "      gap: 12px;\n",
              "    }\n",
              "\n",
              "    .colab-df-convert {\n",
              "      background-color: #E8F0FE;\n",
              "      border: none;\n",
              "      border-radius: 50%;\n",
              "      cursor: pointer;\n",
              "      display: none;\n",
              "      fill: #1967D2;\n",
              "      height: 32px;\n",
              "      padding: 0 0 0 0;\n",
              "      width: 32px;\n",
              "    }\n",
              "\n",
              "    .colab-df-convert:hover {\n",
              "      background-color: #E2EBFA;\n",
              "      box-shadow: 0px 1px 2px rgba(60, 64, 67, 0.3), 0px 1px 3px 1px rgba(60, 64, 67, 0.15);\n",
              "      fill: #174EA6;\n",
              "    }\n",
              "\n",
              "    .colab-df-buttons div {\n",
              "      margin-bottom: 4px;\n",
              "    }\n",
              "\n",
              "    [theme=dark] .colab-df-convert {\n",
              "      background-color: #3B4455;\n",
              "      fill: #D2E3FC;\n",
              "    }\n",
              "\n",
              "    [theme=dark] .colab-df-convert:hover {\n",
              "      background-color: #434B5C;\n",
              "      box-shadow: 0px 1px 3px 1px rgba(0, 0, 0, 0.15);\n",
              "      filter: drop-shadow(0px 1px 2px rgba(0, 0, 0, 0.3));\n",
              "      fill: #FFFFFF;\n",
              "    }\n",
              "  </style>\n",
              "\n",
              "    <script>\n",
              "      const buttonEl =\n",
              "        document.querySelector('#df-cd7d0a96-6a79-4f9b-9784-68cab4ff086c button.colab-df-convert');\n",
              "      buttonEl.style.display =\n",
              "        google.colab.kernel.accessAllowed ? 'block' : 'none';\n",
              "\n",
              "      async function convertToInteractive(key) {\n",
              "        const element = document.querySelector('#df-cd7d0a96-6a79-4f9b-9784-68cab4ff086c');\n",
              "        const dataTable =\n",
              "          await google.colab.kernel.invokeFunction('convertToInteractive',\n",
              "                                                    [key], {});\n",
              "        if (!dataTable) return;\n",
              "\n",
              "        const docLinkHtml = 'Like what you see? Visit the ' +\n",
              "          '<a target=\"_blank\" href=https://colab.research.google.com/notebooks/data_table.ipynb>data table notebook</a>'\n",
              "          + ' to learn more about interactive tables.';\n",
              "        element.innerHTML = '';\n",
              "        dataTable['output_type'] = 'display_data';\n",
              "        await google.colab.output.renderOutput(dataTable, element);\n",
              "        const docLink = document.createElement('div');\n",
              "        docLink.innerHTML = docLinkHtml;\n",
              "        element.appendChild(docLink);\n",
              "      }\n",
              "    </script>\n",
              "  </div>\n",
              "\n",
              "\n",
              "    <div id=\"df-660c0a3d-45f4-418b-ab51-50aa32babe01\">\n",
              "      <button class=\"colab-df-quickchart\" onclick=\"quickchart('df-660c0a3d-45f4-418b-ab51-50aa32babe01')\"\n",
              "                title=\"Suggest charts\"\n",
              "                style=\"display:none;\">\n",
              "\n",
              "<svg xmlns=\"http://www.w3.org/2000/svg\" height=\"24px\"viewBox=\"0 0 24 24\"\n",
              "     width=\"24px\">\n",
              "    <g>\n",
              "        <path d=\"M19 3H5c-1.1 0-2 .9-2 2v14c0 1.1.9 2 2 2h14c1.1 0 2-.9 2-2V5c0-1.1-.9-2-2-2zM9 17H7v-7h2v7zm4 0h-2V7h2v10zm4 0h-2v-4h2v4z\"/>\n",
              "    </g>\n",
              "</svg>\n",
              "      </button>\n",
              "\n",
              "<style>\n",
              "  .colab-df-quickchart {\n",
              "      --bg-color: #E8F0FE;\n",
              "      --fill-color: #1967D2;\n",
              "      --hover-bg-color: #E2EBFA;\n",
              "      --hover-fill-color: #174EA6;\n",
              "      --disabled-fill-color: #AAA;\n",
              "      --disabled-bg-color: #DDD;\n",
              "  }\n",
              "\n",
              "  [theme=dark] .colab-df-quickchart {\n",
              "      --bg-color: #3B4455;\n",
              "      --fill-color: #D2E3FC;\n",
              "      --hover-bg-color: #434B5C;\n",
              "      --hover-fill-color: #FFFFFF;\n",
              "      --disabled-bg-color: #3B4455;\n",
              "      --disabled-fill-color: #666;\n",
              "  }\n",
              "\n",
              "  .colab-df-quickchart {\n",
              "    background-color: var(--bg-color);\n",
              "    border: none;\n",
              "    border-radius: 50%;\n",
              "    cursor: pointer;\n",
              "    display: none;\n",
              "    fill: var(--fill-color);\n",
              "    height: 32px;\n",
              "    padding: 0;\n",
              "    width: 32px;\n",
              "  }\n",
              "\n",
              "  .colab-df-quickchart:hover {\n",
              "    background-color: var(--hover-bg-color);\n",
              "    box-shadow: 0 1px 2px rgba(60, 64, 67, 0.3), 0 1px 3px 1px rgba(60, 64, 67, 0.15);\n",
              "    fill: var(--button-hover-fill-color);\n",
              "  }\n",
              "\n",
              "  .colab-df-quickchart-complete:disabled,\n",
              "  .colab-df-quickchart-complete:disabled:hover {\n",
              "    background-color: var(--disabled-bg-color);\n",
              "    fill: var(--disabled-fill-color);\n",
              "    box-shadow: none;\n",
              "  }\n",
              "\n",
              "  .colab-df-spinner {\n",
              "    border: 2px solid var(--fill-color);\n",
              "    border-color: transparent;\n",
              "    border-bottom-color: var(--fill-color);\n",
              "    animation:\n",
              "      spin 1s steps(1) infinite;\n",
              "  }\n",
              "\n",
              "  @keyframes spin {\n",
              "    0% {\n",
              "      border-color: transparent;\n",
              "      border-bottom-color: var(--fill-color);\n",
              "      border-left-color: var(--fill-color);\n",
              "    }\n",
              "    20% {\n",
              "      border-color: transparent;\n",
              "      border-left-color: var(--fill-color);\n",
              "      border-top-color: var(--fill-color);\n",
              "    }\n",
              "    30% {\n",
              "      border-color: transparent;\n",
              "      border-left-color: var(--fill-color);\n",
              "      border-top-color: var(--fill-color);\n",
              "      border-right-color: var(--fill-color);\n",
              "    }\n",
              "    40% {\n",
              "      border-color: transparent;\n",
              "      border-right-color: var(--fill-color);\n",
              "      border-top-color: var(--fill-color);\n",
              "    }\n",
              "    60% {\n",
              "      border-color: transparent;\n",
              "      border-right-color: var(--fill-color);\n",
              "    }\n",
              "    80% {\n",
              "      border-color: transparent;\n",
              "      border-right-color: var(--fill-color);\n",
              "      border-bottom-color: var(--fill-color);\n",
              "    }\n",
              "    90% {\n",
              "      border-color: transparent;\n",
              "      border-bottom-color: var(--fill-color);\n",
              "    }\n",
              "  }\n",
              "</style>\n",
              "\n",
              "      <script>\n",
              "        async function quickchart(key) {\n",
              "          const quickchartButtonEl =\n",
              "            document.querySelector('#' + key + ' button');\n",
              "          quickchartButtonEl.disabled = true;  // To prevent multiple clicks.\n",
              "          quickchartButtonEl.classList.add('colab-df-spinner');\n",
              "          try {\n",
              "            const charts = await google.colab.kernel.invokeFunction(\n",
              "                'suggestCharts', [key], {});\n",
              "          } catch (error) {\n",
              "            console.error('Error during call to suggestCharts:', error);\n",
              "          }\n",
              "          quickchartButtonEl.classList.remove('colab-df-spinner');\n",
              "          quickchartButtonEl.classList.add('colab-df-quickchart-complete');\n",
              "        }\n",
              "        (() => {\n",
              "          let quickchartButtonEl =\n",
              "            document.querySelector('#df-660c0a3d-45f4-418b-ab51-50aa32babe01 button');\n",
              "          quickchartButtonEl.style.display =\n",
              "            google.colab.kernel.accessAllowed ? 'block' : 'none';\n",
              "        })();\n",
              "      </script>\n",
              "    </div>\n",
              "\n",
              "    </div>\n",
              "  </div>\n"
            ],
            "application/vnd.google.colaboratory.intrinsic+json": {
              "type": "dataframe",
              "variable_name": "tienda1",
              "summary": "{\n  \"name\": \"tienda1\",\n  \"rows\": 2359,\n  \"fields\": [\n    {\n      \"column\": \"Producto\",\n      \"properties\": {\n        \"dtype\": \"category\",\n        \"num_unique_values\": 51,\n        \"samples\": [\n          \"Guitarra ac\\u00fastica\",\n          \"Bal\\u00f3n de baloncesto\",\n          \"Smartwatch\"\n        ],\n        \"semantic_type\": \"\",\n        \"description\": \"\"\n      }\n    },\n    {\n      \"column\": \"Categor\\u00eda del Producto\",\n      \"properties\": {\n        \"dtype\": \"category\",\n        \"num_unique_values\": 8,\n        \"samples\": [\n          \"Muebles\",\n          \"Deportes y diversi\\u00f3n\",\n          \"Electr\\u00f3nicos\"\n        ],\n        \"semantic_type\": \"\",\n        \"description\": \"\"\n      }\n    },\n    {\n      \"column\": \"Precio\",\n      \"properties\": {\n        \"dtype\": \"number\",\n        \"std\": 614686.7653873172,\n        \"min\": 7600.0,\n        \"max\": 2977000.0,\n        \"num_unique_values\": 1937,\n        \"samples\": [\n          2499400.0,\n          14800.0,\n          80500.0\n        ],\n        \"semantic_type\": \"\",\n        \"description\": \"\"\n      }\n    },\n    {\n      \"column\": \"Costo de env\\u00edo\",\n      \"properties\": {\n        \"dtype\": \"number\",\n        \"std\": 32860.0017825605,\n        \"min\": 0.0,\n        \"max\": 160800.0,\n        \"num_unique_values\": 753,\n        \"samples\": [\n          117800.0,\n          54700.0,\n          45600.0\n        ],\n        \"semantic_type\": \"\",\n        \"description\": \"\"\n      }\n    },\n    {\n      \"column\": \"Fecha de Compra\",\n      \"properties\": {\n        \"dtype\": \"object\",\n        \"num_unique_values\": 1018,\n        \"samples\": [\n          \"15/09/2022\",\n          \"03/06/2020\",\n          \"06/11/2021\"\n        ],\n        \"semantic_type\": \"\",\n        \"description\": \"\"\n      }\n    },\n    {\n      \"column\": \"Vendedor\",\n      \"properties\": {\n        \"dtype\": \"category\",\n        \"num_unique_values\": 14,\n        \"samples\": [\n          \"Juliana Costa\",\n          \"Mariana Herrera\",\n          \"Pedro Gomez\"\n        ],\n        \"semantic_type\": \"\",\n        \"description\": \"\"\n      }\n    },\n    {\n      \"column\": \"Lugar de Compra\",\n      \"properties\": {\n        \"dtype\": \"category\",\n        \"num_unique_values\": 19,\n        \"samples\": [\n          \"Bogot\\u00e1\",\n          \"Pereira\",\n          \"Neiva\"\n        ],\n        \"semantic_type\": \"\",\n        \"description\": \"\"\n      }\n    },\n    {\n      \"column\": \"Calificaci\\u00f3n\",\n      \"properties\": {\n        \"dtype\": \"number\",\n        \"std\": 1,\n        \"min\": 1,\n        \"max\": 5,\n        \"num_unique_values\": 5,\n        \"samples\": [\n          1,\n          2,\n          5\n        ],\n        \"semantic_type\": \"\",\n        \"description\": \"\"\n      }\n    },\n    {\n      \"column\": \"M\\u00e9todo de pago\",\n      \"properties\": {\n        \"dtype\": \"category\",\n        \"num_unique_values\": 4,\n        \"samples\": [\n          \"Nequi\",\n          \"Tarjeta de d\\u00e9bito\",\n          \"Tarjeta de cr\\u00e9dito\"\n        ],\n        \"semantic_type\": \"\",\n        \"description\": \"\"\n      }\n    },\n    {\n      \"column\": \"Cantidad de cuotas\",\n      \"properties\": {\n        \"dtype\": \"number\",\n        \"std\": 2,\n        \"min\": 1,\n        \"max\": 24,\n        \"num_unique_values\": 15,\n        \"samples\": [\n          7,\n          14,\n          8\n        ],\n        \"semantic_type\": \"\",\n        \"description\": \"\"\n      }\n    },\n    {\n      \"column\": \"lat\",\n      \"properties\": {\n        \"dtype\": \"number\",\n        \"std\": 2.2874452492678627,\n        \"min\": -4.21528,\n        \"max\": 11.54444,\n        \"num_unique_values\": 19,\n        \"samples\": [\n          4.60971,\n          4.81333,\n          2.9273\n        ],\n        \"semantic_type\": \"\",\n        \"description\": \"\"\n      }\n    },\n    {\n      \"column\": \"lon\",\n      \"properties\": {\n        \"dtype\": \"number\",\n        \"std\": 1.2178272727088486,\n        \"min\": -77.28111,\n        \"max\": -67.9239,\n        \"num_unique_values\": 19,\n        \"samples\": [\n          -74.08175,\n          -75.69611,\n          -75.28189\n        ],\n        \"semantic_type\": \"\",\n        \"description\": \"\"\n      }\n    }\n  ]\n}"
            }
          },
          "metadata": {},
          "execution_count": 2
        }
      ],
      "source": [
        "import pandas as pd\n",
        "\n",
        "url = \"https://raw.githubusercontent.com/alura-es-cursos/challenge1-data-science-latam/refs/heads/main/base-de-datos-challenge1-latam/tienda_1%20.csv\"\n",
        "url2 = \"https://raw.githubusercontent.com/alura-es-cursos/challenge1-data-science-latam/refs/heads/main/base-de-datos-challenge1-latam/tienda_2.csv\"\n",
        "url3 = \"https://raw.githubusercontent.com/alura-es-cursos/challenge1-data-science-latam/refs/heads/main/base-de-datos-challenge1-latam/tienda_3.csv\"\n",
        "url4 = \"https://raw.githubusercontent.com/alura-es-cursos/challenge1-data-science-latam/refs/heads/main/base-de-datos-challenge1-latam/tienda_4.csv\"\n",
        "\n",
        "tienda1 = pd.read_csv(url)\n",
        "tienda2 = pd.read_csv(url2)\n",
        "tienda3 = pd.read_csv(url3)\n",
        "tienda4 = pd.read_csv(url4)\n",
        "\n",
        "tienda1.head()"
      ]
    },
    {
      "cell_type": "markdown",
      "source": [
        "#1. **Análisis de facturación.**\n",
        "\n"
      ],
      "metadata": {
        "id": "X62IW3KFUIYm"
      }
    },
    {
      "cell_type": "markdown",
      "source": [
        "####Facturación total por cada tienda. 🛒\n",
        "\n",
        "\n"
      ],
      "metadata": {
        "id": "US1HLwP6bqON"
      }
    },
    {
      "cell_type": "code",
      "source": [
        "# Inicializamos\n",
        "from matplotlib import pyplot as plt\n",
        "import numpy as np\n",
        "\n",
        "tiendas = ['tienda1', 'tienda2','tienda3','tienda4']\n",
        "colores = ['#FF8C2A', '#32A7E5', '#00C86F', '#9CD33B']"
      ],
      "metadata": {
        "id": "2LNv8dStytn8"
      },
      "execution_count": 89,
      "outputs": []
    },
    {
      "cell_type": "code",
      "source": [
        "def facturacion(tienda):\n",
        "  precio = sum(tienda['Precio'])\n",
        "  return precio\n",
        "\n",
        "facturas_tienda = []\n",
        "\n",
        "for t in tiendas:\n",
        "  print(f\"La facturación de la tienda {t} es de ${facturacion(eval(t)):,}\")\n",
        "  facturas_tienda.append(facturacion(eval(t)))"
      ],
      "metadata": {
        "colab": {
          "base_uri": "https://localhost:8080/"
        },
        "id": "bkN32MCdUAX7",
        "outputId": "20958aa8-1dae-41c1-afb0-ab9eb412526e",
        "collapsed": true
      },
      "execution_count": 90,
      "outputs": [
        {
          "output_type": "stream",
          "name": "stdout",
          "text": [
            "La facturación de la tienda tienda1 es de $1,150,880,400.0\n",
            "La facturación de la tienda tienda2 es de $1,116,343,500.0\n",
            "La facturación de la tienda tienda3 es de $1,098,019,600.0\n",
            "La facturación de la tienda tienda4 es de $1,038,375,700.0\n"
          ]
        }
      ]
    },
    {
      "cell_type": "code",
      "source": [
        "x = tiendas\n",
        "y = facturas_tienda\n",
        "\n",
        "plt.bar(x, y, color= colores)\n",
        "plt.xlabel(\"Tiendas\")\n",
        "plt.ylabel(\"Facturación\")\n",
        "plt.title(\"Facturación por tienda\")\n",
        "plt.tight_layout()\n",
        "plt.show()"
      ],
      "metadata": {
        "colab": {
          "base_uri": "https://localhost:8080/",
          "height": 487
        },
        "collapsed": true,
        "id": "eQ0UXOvz0dc2",
        "outputId": "127d0ce2-48c1-47f4-9d14-cf4659433d27"
      },
      "execution_count": 91,
      "outputs": [
        {
          "output_type": "display_data",
          "data": {
            "text/plain": [
              "<Figure size 640x480 with 1 Axes>"
            ],
            "image/png": "[encoded data removed]"
          },
          "metadata": {}
        }
      ]
    },
    {
      "cell_type": "markdown",
      "source": [
        "####Resumen de facturación. 📎"
      ],
      "metadata": {
        "id": "zxACMyazdzyE"
      }
    },
    {
      "cell_type": "code",
      "source": [
        "facturacion_total = 0\n",
        "porcentajes_tienda = []\n",
        "\n",
        "for t in tiendas:\n",
        "  tienda = eval(t)\n",
        "  facturacion_total += facturacion(tienda)\n",
        "\n",
        "for i, t in enumerate(tiendas):\n",
        "    porcentaje = (facturas_tienda[i] / facturacion_total) * 100\n",
        "    print(f\"La {t} facturó ${facturas_tienda[i]:,} → {porcentaje:.2f}% del total\")\n",
        "    porcentajes_tienda.append(porcentaje)\n",
        "\n",
        "print(f\"\\nLa facturación total de las tiendas es de ${facturacion_total:,}\")"
      ],
      "metadata": {
        "colab": {
          "base_uri": "https://localhost:8080/"
        },
        "id": "BJ7T6fR7eBBb",
        "outputId": "e95393f1-7373-4d87-dfd3-ffc36699b1e9",
        "collapsed": true
      },
      "execution_count": 92,
      "outputs": [
        {
          "output_type": "stream",
          "name": "stdout",
          "text": [
            "La tienda1 facturó $1,150,880,400.0 → 26.13% del total\n",
            "La tienda2 facturó $1,116,343,500.0 → 25.35% del total\n",
            "La tienda3 facturó $1,098,019,600.0 → 24.93% del total\n",
            "La tienda4 facturó $1,038,375,700.0 → 23.58% del total\n",
            "\n",
            "La facturación total de las tiendas es de $4,403,619,200.0\n"
          ]
        }
      ]
    },
    {
      "cell_type": "code",
      "source": [
        "x = tiendas\n",
        "y = porcentajes_tienda\n",
        "\n",
        "plt.pie(y, labels=x, colors=colores, autopct='%1.1f%%', startangle=90)\n",
        "plt.title(\"Porcentaje por tienda\")\n",
        "plt.axis('equal')\n",
        "plt.tight_layout()\n",
        "plt.show()"
      ],
      "metadata": {
        "colab": {
          "base_uri": "https://localhost:8080/",
          "height": 487
        },
        "id": "ptPUj8FDA8yR",
        "outputId": "a3e95f96-6129-4a31-bced-b797c7d374ce"
      },
      "execution_count": 93,
      "outputs": [
        {
          "output_type": "display_data",
          "data": {
            "text/plain": [
              "<Figure size 640x480 with 1 Axes>"
            ],
            "image/png": "[encoded data removed]"
          },
          "metadata": {}
        }
      ]
    },
    {
      "cell_type": "markdown",
      "source": [],
      "metadata": {
        "id": "lci1X08Yw6r0"
      }
    },
    {
      "cell_type": "markdown",
      "source": [
        "# 2. **Ventas por categoría.**"
      ],
      "metadata": {
        "id": "2V_vcAPzWZmR"
      }
    },
    {
      "cell_type": "code",
      "source": [
        "def categorias(tienda):\n",
        "    return tienda['Categoría del Producto'].value_counts()\n",
        "\n",
        "mas_vendida = []\n",
        "menos_vendida = []\n",
        "categorias_tienda = []\n",
        "\n",
        "for t in tiendas:\n",
        "    tienda = eval(t)\n",
        "    mas_vendida.append(categorias(tienda).idxmax())\n",
        "    menos_vendida.append(categorias(tienda).idxmin())\n",
        "    categorias_tienda.append(sum(categorias(tienda)))\n",
        "\n",
        "    print(f\"Categoría de los productos {t}:\\n{categorias(tienda)}\\n\")\n",
        "    print(f\"Las ventas totales por {t} es: {sum(categorias(tienda))}\")\n",
        "    print(f\"La categoría más vendida por {t} es: {categorias(tienda).idxmax()}\")\n",
        "    print(f\"La categoría menos vendida por {t} es: {categorias(tienda).idxmin()}\\n\")"
      ],
      "metadata": {
        "id": "A34YupIuYhfF",
        "colab": {
          "base_uri": "https://localhost:8080/"
        },
        "outputId": "7d364538-db88-4ffa-a953-65b8503bfce3"
      },
      "execution_count": 75,
      "outputs": [
        {
          "output_type": "stream",
          "name": "stdout",
          "text": [
            "Categoría de los productos tienda1:\n",
            "Categoría del Producto\n",
            "Muebles                    465\n",
            "Electrónicos               448\n",
            "Juguetes                   324\n",
            "Electrodomésticos          312\n",
            "Deportes y diversión       284\n",
            "Instrumentos musicales     182\n",
            "Libros                     173\n",
            "Artículos para el hogar    171\n",
            "Name: count, dtype: int64\n",
            "\n",
            "Las ventas totales por tienda1 es: 2359\n",
            "La categoría más vendida por tienda1 es: Muebles\n",
            "La categoría menos vendida por tienda1 es: Artículos para el hogar\n",
            "\n",
            "Categoría de los productos tienda2:\n",
            "Categoría del Producto\n",
            "Muebles                    442\n",
            "Electrónicos               422\n",
            "Juguetes                   313\n",
            "Electrodomésticos          305\n",
            "Deportes y diversión       275\n",
            "Instrumentos musicales     224\n",
            "Libros                     197\n",
            "Artículos para el hogar    181\n",
            "Name: count, dtype: int64\n",
            "\n",
            "Las ventas totales por tienda2 es: 2359\n",
            "La categoría más vendida por tienda2 es: Muebles\n",
            "La categoría menos vendida por tienda2 es: Artículos para el hogar\n",
            "\n",
            "Categoría de los productos tienda3:\n",
            "Categoría del Producto\n",
            "Muebles                    499\n",
            "Electrónicos               451\n",
            "Juguetes                   315\n",
            "Electrodomésticos          278\n",
            "Deportes y diversión       277\n",
            "Libros                     185\n",
            "Instrumentos musicales     177\n",
            "Artículos para el hogar    177\n",
            "Name: count, dtype: int64\n",
            "\n",
            "Las ventas totales por tienda3 es: 2359\n",
            "La categoría más vendida por tienda3 es: Muebles\n",
            "La categoría menos vendida por tienda3 es: Instrumentos musicales\n",
            "\n",
            "Categoría de los productos tienda4:\n",
            "Categoría del Producto\n",
            "Muebles                    480\n",
            "Electrónicos               451\n",
            "Juguetes                   338\n",
            "Deportes y diversión       277\n",
            "Electrodomésticos          254\n",
            "Artículos para el hogar    201\n",
            "Libros                     187\n",
            "Instrumentos musicales     170\n",
            "Name: count, dtype: int64\n",
            "\n",
            "Las ventas totales por tienda4 es: 2358\n",
            "La categoría más vendida por tienda4 es: Muebles\n",
            "La categoría menos vendida por tienda4 es: Instrumentos musicales\n",
            "\n"
          ]
        }
      ]
    },
    {
      "cell_type": "code",
      "source": [
        "categorias_mas_vendidas = [] # Aqui esta la cantidad de ventas de la categoría mas_vendida\n",
        "\n",
        "for i in range(len(tiendas)):\n",
        "    categorias_mas_vendidas.append(categorias(eval(tiendas[i])).max())\n",
        "    print(f\"La categoría más vendida por {tiendas[i]} es: {mas_vendida[i]}\")\n",
        "\n",
        "x = tiendas\n",
        "y = categorias_mas_vendidas\n",
        "\n",
        "plt.bar(x, y, color= colores)\n",
        "plt.xlabel(\"Tiendas\")\n",
        "plt.ylabel(\"Ventas por categoría\")\n",
        "plt.title(\"Categorías más vendidas por tienda\")\n",
        "plt.tight_layout()\n",
        "plt.show()"
      ],
      "metadata": {
        "colab": {
          "base_uri": "https://localhost:8080/",
          "height": 556
        },
        "id": "GB5HYWklikxR",
        "outputId": "5ce94989-c789-4099-8245-7c3222159e50",
        "collapsed": true
      },
      "execution_count": 76,
      "outputs": [
        {
          "output_type": "stream",
          "name": "stdout",
          "text": [
            "La categoría más vendida por tienda1 es: Muebles\n",
            "La categoría más vendida por tienda2 es: Muebles\n",
            "La categoría más vendida por tienda3 es: Muebles\n",
            "La categoría más vendida por tienda4 es: Muebles\n"
          ]
        },
        {
          "output_type": "display_data",
          "data": {
            "text/plain": [
              "<Figure size 640x480 with 1 Axes>"
            ],
            "image/png": "[encoded data removed]"
          },
          "metadata": {}
        }
      ]
    },
    {
      "cell_type": "markdown",
      "source": [
        "# 3. **Calificación promedio de la tienda.**\n"
      ],
      "metadata": {
        "id": "Rq6tU_xSY3jk"
      }
    },
    {
      "cell_type": "code",
      "source": [
        "def producto(tienda):\n",
        "  return tienda['Producto'].value_counts()\n",
        "\n",
        "def calificaciones(tienda):\n",
        "  return tienda['Calificación'].mean()\n",
        "\n",
        "productos_tienda = []\n",
        "satisfacion_tienda = []\n",
        "\n",
        "for t in tiendas:\n",
        "  print(f\"La calificación promedio de la {t} es: {calificaciones(eval(t)):.2f}\")\n",
        "  productos_tienda.append(producto(eval(t)))\n",
        "  satisfacion_tienda.append(calificaciones(eval(t)))"
      ],
      "metadata": {
        "id": "bh3jjjJwY5MU",
        "colab": {
          "base_uri": "https://localhost:8080/"
        },
        "outputId": "5e064838-365f-446b-a142-c4ad3875a026"
      },
      "execution_count": 80,
      "outputs": [
        {
          "output_type": "stream",
          "name": "stdout",
          "text": [
            "La calificación promedio de la tienda1 es: 3.98\n",
            "La calificación promedio de la tienda2 es: 4.04\n",
            "La calificación promedio de la tienda3 es: 4.05\n",
            "La calificación promedio de la tienda4 es: 4.00\n"
          ]
        }
      ]
    },
    {
      "cell_type": "code",
      "source": [
        "x = tiendas\n",
        "y = satisfacion_tienda\n",
        "\n",
        "plt.bar(x, y, color= colores)\n",
        "plt.xlabel(\"Tiendas\")\n",
        "plt.ylabel(\"Satisfación tienda\")\n",
        "plt.title(\"Satisfación del cliente por tienda\")\n",
        "plt.tight_layout()\n",
        "plt.show()"
      ],
      "metadata": {
        "id": "I0KkjPoTY88F",
        "colab": {
          "base_uri": "https://localhost:8080/",
          "height": 487
        },
        "collapsed": true,
        "outputId": "22b98522-f8e3-4c08-b0fc-bf93669646ce"
      },
      "execution_count": 83,
      "outputs": [
        {
          "output_type": "display_data",
          "data": {
            "text/plain": [
              "<Figure size 640x480 with 1 Axes>"
            ],
            "image/png": "[encoded data removed]"
          },
          "metadata": {}
        }
      ]
    },
    {
      "cell_type": "markdown",
      "source": [
        "# 4. **Productos más y menos vendidos.**"
      ],
      "metadata": {
        "id": "DmNp1KPBZCm-"
      }
    },
    {
      "cell_type": "code",
      "source": [
        "producto_mas_vendido = []\n",
        "producto_menos_vendido = []\n",
        "\n",
        "for t in tiendas:\n",
        "  print(f\"El producto más vendido por {t} es: {producto(tienda).idxmax()} \")\n",
        "  producto_mas_vendido.append(producto(tienda).max())\n",
        "  print(f\"El producto menos vendido por {t} es: {producto(tienda).idxmin()}\\n\")\n",
        "  producto_menos_vendido.append(producto(tienda).min())\n"
      ],
      "metadata": {
        "id": "qoyjqijQZHfF",
        "colab": {
          "base_uri": "https://localhost:8080/"
        },
        "outputId": "320a2c77-2690-42ac-ae9b-8e6dc5076dd8"
      },
      "execution_count": 85,
      "outputs": [
        {
          "output_type": "stream",
          "name": "stdout",
          "text": [
            "El producto más vendido por tienda1 es: Cama box \n",
            "El producto menos vendido por tienda1 es: Guitarra eléctrica\n",
            "\n",
            "El producto más vendido por tienda2 es: Cama box \n",
            "El producto menos vendido por tienda2 es: Guitarra eléctrica\n",
            "\n",
            "El producto más vendido por tienda3 es: Cama box \n",
            "El producto menos vendido por tienda3 es: Guitarra eléctrica\n",
            "\n",
            "El producto más vendido por tienda4 es: Cama box \n",
            "El producto menos vendido por tienda4 es: Guitarra eléctrica\n",
            "\n"
          ]
        }
      ]
    },
    {
      "cell_type": "code",
      "source": [
        "x = np.arange(len(tiendas))  # posiciones en el eje x\n",
        "width = 0.35  # ancho de cada barra\n",
        "\n",
        "plt.bar(x - width/2, producto_mas_vendido, width, label='Más vendido', color= \"#32A7E5\")\n",
        "plt.bar(x + width/2, producto_menos_vendido, width, label='Menos vendido', color= '#00C86F')\n",
        "\n",
        "plt.xlabel(\"Tiendas\")\n",
        "plt.ylabel(\"Cantidad vendida\")\n",
        "plt.title(\"Productos más y menos vendidos por tienda\")\n",
        "plt.xticks(x, tiendas)  # poner etiquetas correctas en el eje x\n",
        "plt.legend()\n",
        "plt.tight_layout()\n",
        "plt.show()"
      ],
      "metadata": {
        "id": "0Sw3sd4IZIGW",
        "colab": {
          "base_uri": "https://localhost:8080/",
          "height": 487
        },
        "outputId": "a1c89ed0-8aae-427e-f4aa-71018fd90a8a"
      },
      "execution_count": 98,
      "outputs": [
        {
          "output_type": "display_data",
          "data": {
            "text/plain": [
              "<Figure size 640x480 with 1 Axes>"
            ],
            "image/png": "[encoded data removed]"
          },
          "metadata": {}
        }
      ]
    },
    {
      "cell_type": "markdown",
      "source": [
        "# 5. **Envío promedio por tienda.**"
      ],
      "metadata": {
        "id": "Fl0cGi3bZKqU"
      }
    },
    {
      "cell_type": "markdown",
      "source": [
        "####Envío promedio por cada tienda. 👩‍💻"
      ],
      "metadata": {
        "id": "vmWXebbzFA1L"
      }
    },
    {
      "cell_type": "code",
      "source": [
        "def costo_envio_promedio(tienda):\n",
        "  return tienda['Costo de envío'].mean()\n",
        "\n",
        "costo_envio_promedio_tienda = []\n",
        "\n",
        "for t in tiendas:\n",
        "  print(f\"El costo de envío promedio de la tienda {t} es de ${costo_envio_promedio(eval(t)):,.2f}\")\n",
        "  costo_envio_promedio_tienda.append(costo_envio_promedio(eval(t)))"
      ],
      "metadata": {
        "id": "S2JeaCykZNy9",
        "colab": {
          "base_uri": "https://localhost:8080/"
        },
        "outputId": "aaa2c888-fdfd-4dc2-ac61-4a034f0dbef0"
      },
      "execution_count": 118,
      "outputs": [
        {
          "output_type": "stream",
          "name": "stdout",
          "text": [
            "El costo de envío promedio de la tienda tienda1 es de $26,018.61\n",
            "El costo de envío promedio de la tienda tienda2 es de $25,216.24\n",
            "El costo de envío promedio de la tienda tienda3 es de $24,805.68\n",
            "El costo de envío promedio de la tienda tienda4 es de $23,459.46\n"
          ]
        }
      ]
    },
    {
      "cell_type": "code",
      "source": [
        "x = tiendas\n",
        "y = costo_envio_promedio_tienda\n",
        "\n",
        "plt.bar(x, y, color= colores)\n",
        "plt.xlabel(\"Tiendas\")\n",
        "plt.ylabel(\"Costo de envío\")\n",
        "plt.title(\"Costo de envío promedio por tienda\")\n",
        "plt.tight_layout()\n",
        "plt.show()"
      ],
      "metadata": {
        "colab": {
          "base_uri": "https://localhost:8080/",
          "height": 487
        },
        "id": "2ObcjXX-BRKX",
        "outputId": "3d18a25b-4687-4891-aab8-d115187b9561"
      },
      "execution_count": 129,
      "outputs": [
        {
          "output_type": "display_data",
          "data": {
            "text/plain": [
              "<Figure size 640x480 with 1 Axes>"
            ],
            "image/png": "[encoded data removed]"
          },
          "metadata": {}
        }
      ]
    },
    {
      "cell_type": "markdown",
      "source": [
        "####Costos de envío por cada tienda. ✍"
      ],
      "metadata": {
        "id": "MCsIx3w-cO64"
      }
    },
    {
      "cell_type": "code",
      "source": [
        "def costo_envio(tienda):\n",
        "  costo = sum(tienda['Costo de envío'])\n",
        "  return costo\n",
        "\n",
        "costos_envios_tiendas = []\n",
        "\n",
        "for t in tiendas:\n",
        "  print(f\"El costo de envío de la tienda {t} es de ${costo_envio(eval(t)):,}\")\n",
        "  costos_envios_tiendas.append(costo_envio(eval(t)))"
      ],
      "metadata": {
        "colab": {
          "base_uri": "https://localhost:8080/"
        },
        "id": "v7ssNYrKaErn",
        "outputId": "97502ca5-6a4d-4c9d-a4ca-ceb1f8560e48",
        "collapsed": true
      },
      "execution_count": 120,
      "outputs": [
        {
          "output_type": "stream",
          "name": "stdout",
          "text": [
            "El costo de envío de la tienda tienda1 es de $61,377,900.0\n",
            "El costo de envío de la tienda tienda2 es de $59,485,100.0\n",
            "El costo de envío de la tienda tienda3 es de $58,516,600.0\n",
            "El costo de envío de la tienda tienda4 es de $55,317,400.0\n"
          ]
        }
      ]
    },
    {
      "cell_type": "code",
      "source": [
        "x = tiendas\n",
        "y = costos_envios_tiendas\n",
        "\n",
        "plt.bar(x, y, color= colores)\n",
        "plt.xlabel(\"Tiendas\")\n",
        "plt.ylabel(\"Costos Envíos\")\n",
        "plt.title(\"Costos de envíos por tienda\")\n",
        "plt.tight_layout()\n",
        "plt.show()"
      ],
      "metadata": {
        "colab": {
          "base_uri": "https://localhost:8080/",
          "height": 487
        },
        "id": "j1zrFlW79FIB",
        "outputId": "c2bd6274-e5c8-4fed-ebbf-13b9cdcd7045"
      },
      "execution_count": 121,
      "outputs": [
        {
          "output_type": "display_data",
          "data": {
            "text/plain": [
              "<Figure size 640x480 with 1 Axes>"
            ],
            "image/png": "[encoded data removed]"
          },
          "metadata": {}
        }
      ]
    },
    {
      "cell_type": "markdown",
      "source": [
        "####Utilidad por cada tienda. 📑"
      ],
      "metadata": {
        "id": "TuTZDADjcccg"
      }
    },
    {
      "cell_type": "code",
      "source": [
        "def utilidad(tienda):\n",
        "  facturacion(tienda)\n",
        "  costo_envio(tienda)\n",
        "  utilidad = int(facturacion(tienda) - costo_envio(tienda))\n",
        "  return utilidad\n",
        "\n",
        "utilidades_tienda = []\n",
        "\n",
        "for t in tiendas:\n",
        "  print(f\"La utilidad de la tienda {t} es de ${utilidad(eval(t)):,}\")\n",
        "  utilidades_tienda.append(utilidad(eval(t)))"
      ],
      "metadata": {
        "colab": {
          "base_uri": "https://localhost:8080/"
        },
        "id": "Xep1R30CAAW7",
        "outputId": "4015ac70-80cb-4508-91a5-302a4b25876b"
      },
      "execution_count": 122,
      "outputs": [
        {
          "output_type": "stream",
          "name": "stdout",
          "text": [
            "La utilidad de la tienda tienda1 es de $1,089,502,500\n",
            "La utilidad de la tienda tienda2 es de $1,056,858,400\n",
            "La utilidad de la tienda tienda3 es de $1,039,503,000\n",
            "La utilidad de la tienda tienda4 es de $983,058,300\n"
          ]
        }
      ]
    },
    {
      "cell_type": "code",
      "source": [
        "x = tiendas\n",
        "y = utilidades_tienda\n",
        "\n",
        "plt.bar(x, y, color= colores)\n",
        "plt.xlabel(\"Tiendas\")\n",
        "plt.ylabel(\"Utilidad tienda\")\n",
        "plt.title(\"Utilidad por tienda\")\n",
        "plt.tight_layout()\n",
        "plt.show()"
      ],
      "metadata": {
        "colab": {
          "base_uri": "https://localhost:8080/",
          "height": 487
        },
        "id": "waq8KFN4-jDv",
        "outputId": "1c20ef4f-6563-4ec1-a855-c888a5eeba25"
      },
      "execution_count": 123,
      "outputs": [
        {
          "output_type": "display_data",
          "data": {
            "text/plain": [
              "<Figure size 640x480 with 1 Axes>"
            ],
            "image/png": "[encoded data removed]"
          },
          "metadata": {}
        }
      ]
    },
    {
      "cell_type": "markdown",
      "source": [
        "# 6. **Informe Final.**"
      ],
      "metadata": {
        "id": "Qc-2jF83SWL0"
      }
    },
    {
      "cell_type": "markdown",
      "source": [
        "📝 Informe final: Análisis para decidir qué tienda vender para invertir en un nuevo negocio\n",
        "--\n",
        "📌 Introducción\n",
        "---\n",
        "El propósito de este análisis es identificar cuál de las cuatro tiendas disponibles es la más conveniente para que el Sr. Juan venda su negocio. El criterio de decisión es seleccionar aquella tienda que presenta un desempeño global menor, ya que puede representar una oportunidad estratégica de inversión.\n",
        "\n",
        "El análisis se realizó considerando datos clave: facturación, categorías de productos más y menos vendidas, calificaciones promedio de los clientes, productos más y menos vendidos y el coste de envío promedio por tienda.\n",
        "\n",
        "📊 Desarrollo del análisis\n",
        "--\n",
        "✅ Facturación total de las tiendas\n",
        "Se calculó la facturación total de cada tienda:\n",
        "\n",
        "Tienda1: $1,150,880,400 → 26.13% del total\n",
        "\n",
        "Tienda2: $1,116,343,500 → 25.35% del total\n",
        "\n",
        "Tienda3: $1,098,019,600 → 24.93% del total\n",
        "\n",
        "Tienda4: $1,038,375,700 → 23.58% del total\n",
        "\n",
        "La tienda con menor facturación es la tienda4, lo que indica un menor volumen de ventas actual y, por lo tanto, potencial de crecimiento si se gestiona correctamente.\n",
        "\n",
        "📦 Categorías más y menos vendidas\n",
        "--\n",
        "En todas las tiendas, la categoría más vendida es Muebles, pero las categorías menos vendidas varían:\n",
        "\n",
        "Tienda1 y tienda2: Artículos para el hogar\n",
        "\n",
        "Tienda3 y tienda4: Instrumentos musicales\n",
        "\n",
        "Esto muestra que, aunque hay una demanda similar por categorías más populares, la tienda4 tiene menor rotación en ciertas categorías, reflejando menor dinamismo en su oferta.\n",
        "\n",
        "⭐ Calificaciones promedio de los clientes\n",
        "--\n",
        "Tienda1: 3.98\n",
        "\n",
        "Tienda2: 4.04\n",
        "\n",
        "Tienda3: 4.05\n",
        "\n",
        "Tienda4: 4.00\n",
        "\n",
        "Aunque la tienda4 no tiene la calificación más baja, sí está por debajo del promedio general de las otras tiendas. Esto sugiere una percepción del cliente ligeramente menos positiva.\n",
        "\n",
        "📈 Productos más y menos vendidos\n",
        "--\n",
        "En todas las tiendas el producto más vendido es Cama box, y el menos vendido es Guitarra eléctrica. Este patrón indica que la tienda4 no presenta diferencia en su portafolio respecto a las demás, pero el volumen global de ventas sigue siendo menor.\n",
        "\n",
        "🚚 Coste de envío promedio por tienda\n",
        "--\n",
        "Tienda1: $26,018.61\n",
        "\n",
        "Tienda2: $25,216.24\n",
        "\n",
        "Tienda3: $24,805.68\n",
        "\n",
        "Tienda4: $23,459.46\n",
        "\n",
        "La tienda4 tiene el coste de envío promedio más bajo, lo que puede convertirse en una ventaja competitiva para reducir gastos operativos.\n",
        "\n",
        "💰 Utilidad total de las tiendas\n",
        "--\n",
        "Tienda1: $1,089,502,500\n",
        "\n",
        "Tienda2: $1,056,858,400\n",
        "\n",
        "Tienda3: $1,039,503,000\n",
        "\n",
        "Tienda4: $983,058,300\n",
        "\n",
        "Nuevamente, la tienda4 tiene la utilidad más baja, reflejando un desempeño financiero general inferior.\n",
        "\n",
        "✅ Conclusión y recomendación\n",
        "--\n",
        "Tras analizar los diferentes indicadores:\n",
        "\n",
        "Facturación más baja: tienda4\n",
        "\n",
        "Utilidad más baja: tienda4\n",
        "\n",
        "Coste de envío más bajo: tienda4\n",
        "\n",
        "Calificación promedio más baja (después de tienda1): tienda4\n",
        "\n",
        "Menor dinamismo en categorías menos vendidas\n",
        "\n",
        "r representa una oportunidad estratégica para invertir, revitalizar el negocio y aumentar su participación de mercado.\n",
        "Invertir en la tienda con resultados más bajos permite aprovechar costes más bajos, menos competencia interna y un mayor margen para implementar mejoras que incrementen ventas y reputación.\n",
        "\n",
        "✅ Recomendación final:\n",
        "--\n",
        "Se recomienda que el Sr. Juan venda la tienda4, ya que presenta el desempeño global más bajo. De esta forma, podrá aprovechar su situación actual para obtener liquidez y así invertir en un nuevo negocio que le ofrezca mejores perspectivas de crecimiento."
      ],
      "metadata": {
        "id": "igLMeIG9Qmkz"
      }
    }
  ]
}